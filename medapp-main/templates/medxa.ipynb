{
  "nbformat": 4,
  "nbformat_minor": 0,
  "metadata": {
    "colab": {
      "provenance": []
    },
    "kernelspec": {
      "name": "python3",
      "display_name": "Python 3"
    },
    "language_info": {
      "name": "python"
    }
  },
  "cells": [
    {
      "cell_type": "code",
      "execution_count": 122,
      "metadata": {
        "id": "nBv7KPGW0FeO"
      },
      "outputs": [],
      "source": [
        "import pandas as pd\n",
        "import numpy as np\n",
        "import random\n",
        "import re\n",
        "import nltk\n",
        "from nltk.tokenize import word_tokenize\n",
        "from nltk.stem import PorterStemmer\n",
        "from nltk.corpus import stopwords\n",
        "import gensim.downloader as api\n",
        "import gensim\n",
        "from sklearn.model_selection import train_test_split\n",
        "from sklearn.ensemble import RandomForestClassifier\n",
        "from sklearn.metrics import accuracy_score\n",
        "import speech_recognition\n",
        "import pyttsx3"
      ]
    },
    {
      "cell_type": "code",
      "source": [
        "d1 = pd.read_csv(\"dataset.csv\")"
      ],
      "metadata": {
        "id": "ekQmPKR01imB"
      },
      "execution_count": 44,
      "outputs": []
    },
    {
      "cell_type": "code",
      "source": [
        "d1 = d1.fillna(0)"
      ],
      "metadata": {
        "id": "3pafuag-4nBp"
      },
      "execution_count": 45,
      "outputs": []
    },
    {
      "cell_type": "code",
      "source": [
        "symptoms = []\n",
        "disease = d1.Disease\n",
        "starting = [\"I am having \", \"I'm facing \",\"I am going from \"]\n",
        "\n",
        "for j in range(0, 4920):\n",
        "  sent = random.choice(starting)\n",
        "  for i in range(1, 18):\n",
        "    if d1[f\"Symptom_{i}\"][j] != 0:\n",
        "      sent += d1[f\"Symptom_{i}\"][j]\n",
        "      sent += \", \"\n",
        "  symptoms.append(sent)"
      ],
      "metadata": {
        "id": "Q4tQHEbK2cpf"
      },
      "execution_count": 46,
      "outputs": []
    },
    {
      "cell_type": "code",
      "source": [
        "dataset = pd.DataFrame({\"symptoms\":symptoms, \"disease\":disease})"
      ],
      "metadata": {
        "id": "k_yCmT6g8FuH"
      },
      "execution_count": 47,
      "outputs": []
    },
    {
      "cell_type": "code",
      "source": [
        "nltk.download(\"punkt\")\n",
        "nltk.download(\"stopwords\")"
      ],
      "metadata": {
        "colab": {
          "base_uri": "https://localhost:8080/"
        },
        "id": "VkG6Bvb9-Bhl",
        "outputId": "46e15d37-28bd-43f6-94eb-dedea37d9a5b"
      },
      "execution_count": 49,
      "outputs": [
        {
          "output_type": "stream",
          "name": "stderr",
          "text": [
            "[nltk_data] Downloading package punkt to /root/nltk_data...\n",
            "[nltk_data]   Package punkt is already up-to-date!\n",
            "[nltk_data] Downloading package stopwords to /root/nltk_data...\n",
            "[nltk_data]   Package stopwords is already up-to-date!\n"
          ]
        },
        {
          "output_type": "execute_result",
          "data": {
            "text/plain": [
              "True"
            ]
          },
          "metadata": {},
          "execution_count": 49
        }
      ]
    },
    {
      "cell_type": "code",
      "source": [
        "stopword = stopwords.words(\"english\")"
      ],
      "metadata": {
        "id": "5K9jCMbuAdQO"
      },
      "execution_count": 50,
      "outputs": []
    },
    {
      "cell_type": "code",
      "source": [
        "def process_text(text):\n",
        "  text = re.sub(r\",\",\"\", text)\n",
        "  stemmer = PorterStemmer()\n",
        "\n",
        "  clean_text = []\n",
        "  for word in word_tokenize(text):\n",
        "    if word not in stopword:\n",
        "      clean_text.append(stemmer.stem(word))\n",
        "      # clean_text += \" \"\n",
        "  return clean_text"
      ],
      "metadata": {
        "id": "uslcwSf-9sBk"
      },
      "execution_count": 51,
      "outputs": []
    },
    {
      "cell_type": "code",
      "source": [
        "process_text(dataset.symptoms[0])"
      ],
      "metadata": {
        "colab": {
          "base_uri": "https://localhost:8080/"
        },
        "id": "72D3d1Rm_fXt",
        "outputId": "aa86d92d-0b61-4212-b76b-fb758f74cfdc"
      },
      "execution_count": 52,
      "outputs": [
        {
          "output_type": "execute_result",
          "data": {
            "text/plain": [
              "['i', 'itch', 'skin_rash', 'nodal_skin_erupt', 'dischrom', '_patch']"
            ]
          },
          "metadata": {},
          "execution_count": 52
        }
      ]
    },
    {
      "cell_type": "code",
      "source": [
        "Sentences = []\n",
        "for i in range(0, 4920):\n",
        "  process = process_text(dataset.symptoms[i])\n",
        "  Sentences.append(process)"
      ],
      "metadata": {
        "id": "zTRMdSqCA_dS"
      },
      "execution_count": 53,
      "outputs": []
    },
    {
      "cell_type": "code",
      "source": [
        "labels = [i for i in range(0, 41)]\n",
        "map = {}\n",
        "for d, i in zip(dataset.disease.unique(), labels):\n",
        "  map[d] = i"
      ],
      "metadata": {
        "id": "Ip9bCutlBVvK"
      },
      "execution_count": 54,
      "outputs": []
    },
    {
      "cell_type": "code",
      "source": [
        "dataset = pd.DataFrame({\"sentences\":Sentences, \"label\":dataset.disease})"
      ],
      "metadata": {
        "id": "Z1i3obSWUULZ"
      },
      "execution_count": 55,
      "outputs": []
    },
    {
      "cell_type": "code",
      "source": [
        "dataset.label = dataset.label.map(map)"
      ],
      "metadata": {
        "id": "Eo9VCGp9UfNg"
      },
      "execution_count": 56,
      "outputs": []
    },
    {
      "cell_type": "code",
      "source": [
        "dataset.sentences[0]"
      ],
      "metadata": {
        "colab": {
          "base_uri": "https://localhost:8080/"
        },
        "id": "kCqRXdG84DiW",
        "outputId": "72fdafa8-41c5-4f37-9731-2fcaba70a630"
      },
      "execution_count": 57,
      "outputs": [
        {
          "output_type": "execute_result",
          "data": {
            "text/plain": [
              "['i', 'itch', 'skin_rash', 'nodal_skin_erupt', 'dischrom', '_patch']"
            ]
          },
          "metadata": {},
          "execution_count": 57
        }
      ]
    },
    {
      "cell_type": "code",
      "source": [
        "vectorizer = gensim.models.Word2Vec(sentences=dataset.sentences)"
      ],
      "metadata": {
        "id": "iRntsCbx4MQ0"
      },
      "execution_count": 58,
      "outputs": []
    },
    {
      "cell_type": "code",
      "source": [
        "vectorizer.wv.index_to_key"
      ],
      "metadata": {
        "colab": {
          "base_uri": "https://localhost:8080/"
        },
        "id": "YrrXzsC241ys",
        "outputId": "42b18a53-4b60-47fa-c1dd-b083afca8854"
      },
      "execution_count": 59,
      "outputs": [
        {
          "output_type": "execute_result",
          "data": {
            "text/plain": [
              "['i',\n",
              " 'fatigu',\n",
              " 'vomit',\n",
              " 'go',\n",
              " \"'m\",\n",
              " 'face',\n",
              " 'high_fev',\n",
              " 'loss_of_appetit',\n",
              " 'nausea',\n",
              " 'headach',\n",
              " 'abdominal_pain',\n",
              " 'yellowish_skin',\n",
              " 'yellowing_of_ey',\n",
              " 'chill',\n",
              " 'skin_rash',\n",
              " 'malais',\n",
              " 'chest_pain',\n",
              " 'joint_pain',\n",
              " 'sweat',\n",
              " 'itch',\n",
              " 'dark_urin',\n",
              " 'diarrhoea',\n",
              " 'cough',\n",
              " 'muscle_pain',\n",
              " 'irrit',\n",
              " 'excessive_hung',\n",
              " 'lethargi',\n",
              " 'weight_loss',\n",
              " 'breathless',\n",
              " 'mild_fev',\n",
              " 'phlegm',\n",
              " 'swelled_lymph_nod',\n",
              " 'loss_of_bal',\n",
              " 'blurred_and_distorted_vis',\n",
              " 'dizzi',\n",
              " 'abnormal_menstru',\n",
              " 'depress',\n",
              " 'fast_heart_r',\n",
              " 'red_spots_over_bodi',\n",
              " 'muscle_weak',\n",
              " 'constip',\n",
              " 'stiff_neck',\n",
              " 'obes',\n",
              " 'back_pain',\n",
              " 'neck_pain',\n",
              " 'mood_sw',\n",
              " 'restless',\n",
              " 'swelling_joint',\n",
              " 'painful_walk',\n",
              " 'family_histori',\n",
              " 'indigest',\n",
              " 'continuous_sneez',\n",
              " 'acid',\n",
              " 'stomach_pain',\n",
              " 'burning_micturit',\n",
              " 'urin',\n",
              " 'sinus_pressur',\n",
              " 'redness_of_ey',\n",
              " 'slurred_speech',\n",
              " 'polyuria',\n",
              " 'swollen_extremeti',\n",
              " 'brittle_nail',\n",
              " 'increased_appetit',\n",
              " 'enlarged_thyroid',\n",
              " 'palpit',\n",
              " 'rusty_sputum',\n",
              " 'loss_of_smel',\n",
              " 'congest',\n",
              " 'runny_nos',\n",
              " 'blood_in_sputum',\n",
              " 'stomach_bleed',\n",
              " 'coma',\n",
              " 'receiving_unsterile_inject',\n",
              " 'pain_behind_the_ey',\n",
              " 'throat_irrit',\n",
              " 'receiving_blood_transfus',\n",
              " 'internal_itch',\n",
              " 'movement_stiff',\n",
              " 'silver_like_dust',\n",
              " 'blister',\n",
              " 'bladder_discomfort',\n",
              " 'unsteadi',\n",
              " 'inflammatory_nail',\n",
              " 'small_dents_in_nail',\n",
              " 'drying_and_tingling_lip',\n",
              " 'anxieti',\n",
              " 'irregular_sugar_level',\n",
              " 'knee_pain',\n",
              " 'hip_joint_pain',\n",
              " 'skin_peel',\n",
              " 'passage_of_gas',\n",
              " 'continuous_feel_of_urin',\n",
              " 'bloody_stool',\n",
              " 'mucoid_sputum',\n",
              " 'acute_liver_failur',\n",
              " 'bruis',\n",
              " 'toxic_look_',\n",
              " '(',\n",
              " ')',\n",
              " 'belly_pain',\n",
              " 'yellow_urin',\n",
              " 'swelling_of_stomach',\n",
              " 'swollen_leg',\n",
              " 'distention_of_abdomen',\n",
              " 'history_of_alcohol_consumpt',\n",
              " 'fluid_overload',\n",
              " 'cramp',\n",
              " 'irritation_in_anu',\n",
              " 'pain_during_bowel_mov',\n",
              " 'red_sore_around_nos',\n",
              " 'typho',\n",
              " 'cold_hands_and_feet',\n",
              " 'weight_gain',\n",
              " 'pain_in_anal_region',\n",
              " 'lack_of_concentr',\n",
              " 'puffy_face_and_ey',\n",
              " 'visual_disturb',\n",
              " 'altered_sensorium',\n",
              " 'yellow_crust_ooz',\n",
              " 'prominent_veins_on_calf',\n",
              " 'pus_filled_pimpl',\n",
              " 'weakness_in_limb',\n",
              " 'sunken_ey',\n",
              " 'swollen_blood_vessel',\n",
              " 'nodal_skin_erupt',\n",
              " 'dischrom',\n",
              " '_patch',\n",
              " 'spotting_',\n",
              " 'extra_marital_contact',\n",
              " 'dehydr',\n",
              " 'shiver',\n",
              " 'blackhead',\n",
              " 'weakness_of_one_body_sid',\n",
              " 'watering_from_ey',\n",
              " 'spinning_mov',\n",
              " 'patches_in_throat',\n",
              " 'ulcers_on_tongu',\n",
              " 'scur',\n",
              " 'muscle_wast',\n",
              " 'foul_smell_of']"
            ]
          },
          "metadata": {},
          "execution_count": 59
        }
      ]
    },
    {
      "cell_type": "code",
      "source": [
        "vectorizer.wv[\"itch\"].shape"
      ],
      "metadata": {
        "colab": {
          "base_uri": "https://localhost:8080/"
        },
        "id": "EokNuSmv5ByZ",
        "outputId": "11daca52-c83a-4ff1-e801-7927792f51d5"
      },
      "execution_count": 60,
      "outputs": [
        {
          "output_type": "execute_result",
          "data": {
            "text/plain": [
              "(100,)"
            ]
          },
          "metadata": {},
          "execution_count": 60
        }
      ]
    },
    {
      "cell_type": "code",
      "source": [
        "vectors = []\n",
        "vec_size = vectorizer.vector_size\n",
        "for i in range(0, 4920):\n",
        "  sent = dataset.sentences[i]\n",
        "  vec = np.zeros(vec_size, )\n",
        "  count = 0\n",
        "  for word in sent:\n",
        "    if word in vectorizer.wv.index_to_key:\n",
        "      vec += vectorizer.wv[word]\n",
        "      count += 1\n",
        "  final_vec = vec / count\n",
        "  vectors.append(final_vec)"
      ],
      "metadata": {
        "id": "0kDZAlD652Jh"
      },
      "execution_count": 61,
      "outputs": []
    },
    {
      "cell_type": "code",
      "source": [
        "dataset = pd.DataFrame({\"vectors\":vectors, \"labels\":dataset.label})"
      ],
      "metadata": {
        "id": "T8RsNSiJ62KA"
      },
      "execution_count": 62,
      "outputs": []
    },
    {
      "cell_type": "code",
      "source": [
        "x = dataset.vectors.to_list()\n",
        "y = dataset.labels.to_list()"
      ],
      "metadata": {
        "id": "8jQm0X7Z7i5Q"
      },
      "execution_count": 63,
      "outputs": []
    },
    {
      "cell_type": "code",
      "source": [
        "x_train, x_test, y_train, y_test = train_test_split(x,y,test_size=0.2)"
      ],
      "metadata": {
        "id": "sbXrm_qA7uNT"
      },
      "execution_count": 65,
      "outputs": []
    },
    {
      "cell_type": "code",
      "source": [
        "classifier = RandomForestClassifier(n_estimators=50)\n",
        "classifier.fit(x_train, y_train)"
      ],
      "metadata": {
        "colab": {
          "base_uri": "https://localhost:8080/",
          "height": 74
        },
        "id": "ub7AyWrL-fep",
        "outputId": "616acf2b-5021-4a7a-e671-d3e6b6cc4c70"
      },
      "execution_count": 66,
      "outputs": [
        {
          "output_type": "execute_result",
          "data": {
            "text/plain": [
              "RandomForestClassifier(n_estimators=50)"
            ],
            "text/html": [
              "<style>#sk-container-id-2 {color: black;background-color: white;}#sk-container-id-2 pre{padding: 0;}#sk-container-id-2 div.sk-toggleable {background-color: white;}#sk-container-id-2 label.sk-toggleable__label {cursor: pointer;display: block;width: 100%;margin-bottom: 0;padding: 0.3em;box-sizing: border-box;text-align: center;}#sk-container-id-2 label.sk-toggleable__label-arrow:before {content: \"▸\";float: left;margin-right: 0.25em;color: #696969;}#sk-container-id-2 label.sk-toggleable__label-arrow:hover:before {color: black;}#sk-container-id-2 div.sk-estimator:hover label.sk-toggleable__label-arrow:before {color: black;}#sk-container-id-2 div.sk-toggleable__content {max-height: 0;max-width: 0;overflow: hidden;text-align: left;background-color: #f0f8ff;}#sk-container-id-2 div.sk-toggleable__content pre {margin: 0.2em;color: black;border-radius: 0.25em;background-color: #f0f8ff;}#sk-container-id-2 input.sk-toggleable__control:checked~div.sk-toggleable__content {max-height: 200px;max-width: 100%;overflow: auto;}#sk-container-id-2 input.sk-toggleable__control:checked~label.sk-toggleable__label-arrow:before {content: \"▾\";}#sk-container-id-2 div.sk-estimator input.sk-toggleable__control:checked~label.sk-toggleable__label {background-color: #d4ebff;}#sk-container-id-2 div.sk-label input.sk-toggleable__control:checked~label.sk-toggleable__label {background-color: #d4ebff;}#sk-container-id-2 input.sk-hidden--visually {border: 0;clip: rect(1px 1px 1px 1px);clip: rect(1px, 1px, 1px, 1px);height: 1px;margin: -1px;overflow: hidden;padding: 0;position: absolute;width: 1px;}#sk-container-id-2 div.sk-estimator {font-family: monospace;background-color: #f0f8ff;border: 1px dotted black;border-radius: 0.25em;box-sizing: border-box;margin-bottom: 0.5em;}#sk-container-id-2 div.sk-estimator:hover {background-color: #d4ebff;}#sk-container-id-2 div.sk-parallel-item::after {content: \"\";width: 100%;border-bottom: 1px solid gray;flex-grow: 1;}#sk-container-id-2 div.sk-label:hover label.sk-toggleable__label {background-color: #d4ebff;}#sk-container-id-2 div.sk-serial::before {content: \"\";position: absolute;border-left: 1px solid gray;box-sizing: border-box;top: 0;bottom: 0;left: 50%;z-index: 0;}#sk-container-id-2 div.sk-serial {display: flex;flex-direction: column;align-items: center;background-color: white;padding-right: 0.2em;padding-left: 0.2em;position: relative;}#sk-container-id-2 div.sk-item {position: relative;z-index: 1;}#sk-container-id-2 div.sk-parallel {display: flex;align-items: stretch;justify-content: center;background-color: white;position: relative;}#sk-container-id-2 div.sk-item::before, #sk-container-id-2 div.sk-parallel-item::before {content: \"\";position: absolute;border-left: 1px solid gray;box-sizing: border-box;top: 0;bottom: 0;left: 50%;z-index: -1;}#sk-container-id-2 div.sk-parallel-item {display: flex;flex-direction: column;z-index: 1;position: relative;background-color: white;}#sk-container-id-2 div.sk-parallel-item:first-child::after {align-self: flex-end;width: 50%;}#sk-container-id-2 div.sk-parallel-item:last-child::after {align-self: flex-start;width: 50%;}#sk-container-id-2 div.sk-parallel-item:only-child::after {width: 0;}#sk-container-id-2 div.sk-dashed-wrapped {border: 1px dashed gray;margin: 0 0.4em 0.5em 0.4em;box-sizing: border-box;padding-bottom: 0.4em;background-color: white;}#sk-container-id-2 div.sk-label label {font-family: monospace;font-weight: bold;display: inline-block;line-height: 1.2em;}#sk-container-id-2 div.sk-label-container {text-align: center;}#sk-container-id-2 div.sk-container {/* jupyter's `normalize.less` sets `[hidden] { display: none; }` but bootstrap.min.css set `[hidden] { display: none !important; }` so we also need the `!important` here to be able to override the default hidden behavior on the sphinx rendered scikit-learn.org. See: https://github.com/scikit-learn/scikit-learn/issues/21755 */display: inline-block !important;position: relative;}#sk-container-id-2 div.sk-text-repr-fallback {display: none;}</style><div id=\"sk-container-id-2\" class=\"sk-top-container\"><div class=\"sk-text-repr-fallback\"><pre>RandomForestClassifier(n_estimators=50)</pre><b>In a Jupyter environment, please rerun this cell to show the HTML representation or trust the notebook. <br />On GitHub, the HTML representation is unable to render, please try loading this page with nbviewer.org.</b></div><div class=\"sk-container\" hidden><div class=\"sk-item\"><div class=\"sk-estimator sk-toggleable\"><input class=\"sk-toggleable__control sk-hidden--visually\" id=\"sk-estimator-id-2\" type=\"checkbox\" checked><label for=\"sk-estimator-id-2\" class=\"sk-toggleable__label sk-toggleable__label-arrow\">RandomForestClassifier</label><div class=\"sk-toggleable__content\"><pre>RandomForestClassifier(n_estimators=50)</pre></div></div></div></div></div>"
            ]
          },
          "metadata": {},
          "execution_count": 66
        }
      ]
    },
    {
      "cell_type": "code",
      "source": [
        "y_pred = classifier.predict(x_test)"
      ],
      "metadata": {
        "id": "yxwi4AmXC-Ay"
      },
      "execution_count": 67,
      "outputs": []
    },
    {
      "cell_type": "code",
      "source": [
        "print(accuracy_score(y_test, y_pred))"
      ],
      "metadata": {
        "colab": {
          "base_uri": "https://localhost:8080/"
        },
        "id": "20x19r2XESUn",
        "outputId": "a4402283-169e-4f12-db05-dd1f4a09c543"
      },
      "execution_count": 68,
      "outputs": [
        {
          "output_type": "stream",
          "name": "stdout",
          "text": [
            "1.0\n"
          ]
        }
      ]
    },
    {
      "cell_type": "code",
      "source": [
        "def main(input):\n",
        "  input = process_text(input)\n",
        "  vec = np.zeros(vec_size, )\n",
        "  count = 0\n",
        "  for word in input:\n",
        "    if word in vectorizer.wv.index_to_key:\n",
        "      vec += vectorizer.wv[word]\n",
        "      count += 1\n",
        "  final_vec = vec / count\n",
        "  return [final_vec]"
      ],
      "metadata": {
        "id": "llJ4nmxEhb4x"
      },
      "execution_count": 69,
      "outputs": []
    },
    {
      "cell_type": "code",
      "source": [
        "print(map)"
      ],
      "metadata": {
        "colab": {
          "base_uri": "https://localhost:8080/"
        },
        "id": "CxNgHj40j8VN",
        "outputId": "5c5c0a93-0c59-48d4-ef68-aa6b0542704f"
      },
      "execution_count": 70,
      "outputs": [
        {
          "output_type": "stream",
          "name": "stdout",
          "text": [
            "{'Fungal infection': 0, 'Allergy': 1, 'GERD': 2, 'Chronic cholestasis': 3, 'Drug Reaction': 4, 'Peptic ulcer diseae': 5, 'AIDS': 6, 'Diabetes ': 7, 'Gastroenteritis': 8, 'Bronchial Asthma': 9, 'Hypertension ': 10, 'Migraine': 11, 'Cervical spondylosis': 12, 'Paralysis (brain hemorrhage)': 13, 'Jaundice': 14, 'Malaria': 15, 'Chicken pox': 16, 'Dengue': 17, 'Typhoid': 18, 'hepatitis A': 19, 'Hepatitis B': 20, 'Hepatitis C': 21, 'Hepatitis D': 22, 'Hepatitis E': 23, 'Alcoholic hepatitis': 24, 'Tuberculosis': 25, 'Common Cold': 26, 'Pneumonia': 27, 'Dimorphic hemmorhoids(piles)': 28, 'Heart attack': 29, 'Varicose veins': 30, 'Hypothyroidism': 31, 'Hyperthyroidism': 32, 'Hypoglycemia': 33, 'Osteoarthristis': 34, 'Arthritis': 35, '(vertigo) Paroymsal  Positional Vertigo': 36, 'Acne': 37, 'Urinary tract infection': 38, 'Psoriasis': 39, 'Impetigo': 40}\n"
          ]
        }
      ]
    },
    {
      "cell_type": "code",
      "source": [
        "d2 = pd.read_csv(\"symptom_Description.csv\")\n",
        "d3 = pd.read_csv(\"symptom_precaution.csv\")\n",
        "d4 = pd.read_csv(\"Symptom-severity.csv\")\n",
        "d3.fillna(0, inplace=True)"
      ],
      "metadata": {
        "id": "3x3Qum-Dnrtq"
      },
      "execution_count": 108,
      "outputs": []
    },
    {
      "cell_type": "code",
      "source": [
        "recognizer = speech_recognition.Recognizer()\n",
        "while True:\n",
        "  try:\n",
        "    with speech_recognition.Microphone() as mic:\n",
        "      recognizer.adjust_for_ambient_noise(mic, duration=0.2)\n",
        "      audio = recognizer.listen(mic)\n",
        "      a = recognizer.recognize_google(audio)\n",
        "      a = text.lower()\n",
        "      # print(f\"Recognized : {text}\")\n",
        "  except speech_recognition.exceptions.UnknownValueError():\n",
        "    recognizer = speech_recognition.Recognizer()\n",
        "    continue"
      ],
      "metadata": {
        "id": "XYIR1lEXSGC_"
      },
      "execution_count": null,
      "outputs": []
    },
    {
      "cell_type": "code",
      "source": [
        "processing = main(a)\n",
        "result = classifier.predict(processing)\n",
        "for k,v in map.items():\n",
        "  if v == result[0]:\n",
        "    fr = k\n",
        "    try:\n",
        "      r_description = d2[d2.Disease == fr].Description.values[0]\n",
        "    except IndexError:\n",
        "      pass\n",
        "    precautions = []\n",
        "    for i in range(1, 5):\n",
        "      p = d3[d3.Disease == fr][f\"Precaution_{i}\"].values[0]\n",
        "      precautions.append(p)\n",
        "    weight_sum = 0\n",
        "    print(f\"You might have {k}\")\n",
        "    print(f\"Description of {k} is {r_description}\")\n",
        "    print(\"I'll suggest you to take precautions : \")\n",
        "    for p in precautions:\n",
        "      print(p)\n",
        "    print(\"But I'll suggest you visiting doctor\")"
      ],
      "metadata": {
        "colab": {
          "base_uri": "https://localhost:8080/"
        },
        "id": "Cci-FLSQjnwF",
        "outputId": "fa497a5e-df6a-4bd6-e04c-9455e3ee8c1f"
      },
      "execution_count": 116,
      "outputs": [
        {
          "output_type": "stream",
          "name": "stdout",
          "text": [
            "Enter your symptoms : am going from fatigue, weight_loss, restlessness, lethargy, irregular_sugar_level, blurred_and_distorted_vision, obesity, increased_appetite, polyuria,\n",
            "You might have Diabetes \n",
            "I'll suggest you to take precautions : \n",
            "have balanced diet\n",
            "exercise\n",
            "consult doctor\n",
            "follow up\n",
            "But I'll suggest you visiting doctor\n"
          ]
        }
      ]
    }
  ]
}